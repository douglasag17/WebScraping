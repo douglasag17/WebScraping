{
 "cells": [
  {
   "cell_type": "code",
   "execution_count": 1,
   "metadata": {},
   "outputs": [],
   "source": [
    "from selenium import webdriver \n",
    "from selenium.webdriver.support.ui import Select\n",
    "import time\n",
    "import sys\n",
    "from selenium.webdriver.common.keys import Keys\n",
    "from selenium.webdriver import ActionChains\n",
    "import pandas as pd"
   ]
  },
  {
   "cell_type": "code",
   "execution_count": 2,
   "metadata": {},
   "outputs": [
    {
     "name": "stdout",
     "output_type": "stream",
     "text": [
      "Iniciando Scraper\n"
     ]
    }
   ],
   "source": [
    "exeDriver = \"chromedriver.exe\"\n",
    "driver = webdriver.Chrome(exeDriver)\n",
    "print(\"Iniciando Scraper\")"
   ]
  },
  {
   "cell_type": "markdown",
   "metadata": {},
   "source": [
    "### Ingresar a busqueda de objetos de aprendizaje en Ingles"
   ]
  },
  {
   "cell_type": "code",
   "execution_count": 3,
   "metadata": {},
   "outputs": [],
   "source": [
    "url_ = \"https://www.merlot.org/merlot/\"\n",
    "driver.get(url_)"
   ]
  },
  {
   "cell_type": "code",
   "execution_count": 4,
   "metadata": {},
   "outputs": [],
   "source": [
    "search_advanced = driver.find_element_by_class_name(\"hp-adv-search\")\n",
    "search_advanced.click()"
   ]
  },
  {
   "cell_type": "code",
   "execution_count": 5,
   "metadata": {},
   "outputs": [],
   "source": [
    "#types_selections = driver.find_elements_by_class_name(\"adv-search-col\")\n",
    "#material_type_learning_object = types_selections[0].find_elements_by_class_name(\"custom-control\")\n",
    "#material_type_learning_object[10].click()"
   ]
  },
  {
   "cell_type": "code",
   "execution_count": 6,
   "metadata": {},
   "outputs": [],
   "source": [
    "language_selection = Select(driver.find_element_by_id(\"language\"))\n",
    "language_selection.select_by_value(\"eng\")"
   ]
  },
  {
   "cell_type": "code",
   "execution_count": 7,
   "metadata": {},
   "outputs": [],
   "source": [
    "search = driver.find_element_by_class_name(\"mr-3\")\n",
    "search.click()"
   ]
  },
  {
   "cell_type": "markdown",
   "metadata": {},
   "source": [
    "### Obteniendo metadatos articulos"
   ]
  },
  {
   "cell_type": "code",
   "execution_count": 8,
   "metadata": {},
   "outputs": [],
   "source": [
    "columns = ['title', 'description', 'keywords', 'disciplines', 'material_type', 'date_added_merlot', 'date_modified_merlot',\n",
    "           'authors', 'submitter', 'primary_audience', 'technical_format', 'mobile_compatibility', 'language',\n",
    "           'cost_involved', 'source_code_available', 'accessibility_information_available', 'creative_commons', 'url']\n",
    "df = pd.DataFrame(columns = columns)"
   ]
  },
  {
   "cell_type": "code",
   "execution_count": 9,
   "metadata": {},
   "outputs": [],
   "source": [
    "def get_metadata_page():\n",
    "    # Seccion Material Detail\n",
    "    material_detail = driver.find_elements_by_class_name('row')[2]\n",
    "    material_detail_txt = material_detail.text\n",
    "    material_detail_list = material_detail_txt.split('\\n')\n",
    "\n",
    "    url = driver.current_url\n",
    "    title = material_detail_list[0]\n",
    "    description = material_detail_list[1]\n",
    "    keywords = ''\n",
    "    disciplines = ''\n",
    "    for i in range(len(material_detail_list)):\n",
    "        if (material_detail_list[i] == 'Keywords:'):\n",
    "            keywords = material_detail_list[i+1]\n",
    "        if (material_detail_list[i] == 'Disciplines:'):\n",
    "            disciplines = material_detail_list[i+1]\n",
    "\n",
    "    # Seccion More about this material\n",
    "    more_about_material = driver.find_elements_by_class_name('row')[7]\n",
    "    more_about_material_txt = more_about_material.text\n",
    "    more_about_material_list = more_about_material_txt.split('\\n')\n",
    "    more_about_material_list\n",
    "\n",
    "    material_type = ''\n",
    "    date_added_merlot = ''\n",
    "    date_modified_merlot = '' \n",
    "    authors = ''\n",
    "    submitter = ''\n",
    "    primary_audience = ''\n",
    "    technical_format = ''\n",
    "    mobile_compatibility = ''\n",
    "    language = ''\n",
    "    cost_involved = ''\n",
    "    source_code_available = ''\n",
    "    accessibility_information_available = ''\n",
    "    creative_commons = ''\n",
    "    for i in range(len(more_about_material_list)):\n",
    "        if (more_about_material_list[i] == 'Material Type:'):\n",
    "            material_type = more_about_material_list[i+1]\n",
    "        if (more_about_material_list[i] == 'Date Added to MERLOT:'):\n",
    "            date_added_merlot = more_about_material_list[i+1]\n",
    "        if (more_about_material_list[i] == 'Date Modified in MERLOT:'):\n",
    "            date_modified_merlot = more_about_material_list[i+1]\n",
    "        if (more_about_material_list[i] == 'Author:'):\n",
    "            for j in range(i+1, len(more_about_material_list)):\n",
    "                if (more_about_material_list[j] == 'Submitter:'):\n",
    "                    break\n",
    "                else:\n",
    "                    authors += more_about_material_list[j] + ', '\n",
    "        if (more_about_material_list[i] == 'Submitter:'):\n",
    "            submitter = more_about_material_list[i+1]\n",
    "        if (more_about_material_list[i] == 'Primary Audience:'):\n",
    "            primary_audience = more_about_material_list[i+1]\n",
    "        if (more_about_material_list[i] == 'Technical Format:'):\n",
    "            technical_format = more_about_material_list[i+1]\n",
    "        if (more_about_material_list[i] == 'Mobile Compatibility:'):\n",
    "            mobile_compatibility = more_about_material_list[i+1]\n",
    "        if (more_about_material_list[i] == 'Language:'):\n",
    "            language = more_about_material_list[i+1]\n",
    "        if (more_about_material_list[i] == 'Cost Involved:'):\n",
    "            cost_involved = more_about_material_list[i+1]\n",
    "        if (more_about_material_list[i] == 'Source Code Available:'):\n",
    "            source_code_available = more_about_material_list[i+1]\n",
    "        if (more_about_material_list[i] == 'Accessibility Information Available:'):\n",
    "            accessibility_information_available = more_about_material_list[i+1]\n",
    "        if (more_about_material_list[i] == 'Creative Commons:'):\n",
    "            creative_commons = more_about_material_list[-1]\n",
    "            \n",
    "    diccionario = {'title': title, 'description': description, 'keywords': keywords, 'disciplines': disciplines, \n",
    "                   'material_type': material_type, 'date_added_merlot': date_added_merlot, \n",
    "                   'date_modified_merlot': date_modified_merlot, 'authors': authors, 'submitter': submitter, \n",
    "                   'primary_audience': primary_audience, 'technical_format': technical_format, \n",
    "                   'mobile_compatibility': mobile_compatibility, 'language': language, \n",
    "                   'cost_involved': cost_involved, 'source_code_available': source_code_available, \n",
    "                   'accessibility_information_available': accessibility_information_available, \n",
    "                   'creative_commons': creative_commons, 'url': url}\n",
    "    return diccionario"
   ]
  },
  {
   "cell_type": "markdown",
   "metadata": {},
   "source": [
    "### Iterar sobre todos los objetos de aprendizaje"
   ]
  },
  {
   "cell_type": "code",
   "execution_count": 10,
   "metadata": {},
   "outputs": [
    {
     "ename": "IndexError",
     "evalue": "list index out of range",
     "output_type": "error",
     "traceback": [
      "\u001b[1;31m---------------------------------------------------------------------------\u001b[0m",
      "\u001b[1;31mIndexError\u001b[0m                                Traceback (most recent call last)",
      "\u001b[1;32m<ipython-input-10-ff35a891242d>\u001b[0m in \u001b[0;36m<module>\u001b[1;34m\u001b[0m\n\u001b[0;32m      5\u001b[0m         \u001b[0mactions\u001b[0m\u001b[1;33m.\u001b[0m\u001b[0mkey_down\u001b[0m\u001b[1;33m(\u001b[0m\u001b[0mKeys\u001b[0m\u001b[1;33m.\u001b[0m\u001b[0mCONTROL\u001b[0m\u001b[1;33m)\u001b[0m\u001b[1;33m.\u001b[0m\u001b[0mclick\u001b[0m\u001b[1;33m(\u001b[0m\u001b[0mlearning_object\u001b[0m\u001b[1;33m)\u001b[0m\u001b[1;33m.\u001b[0m\u001b[0mkey_up\u001b[0m\u001b[1;33m(\u001b[0m\u001b[0mKeys\u001b[0m\u001b[1;33m.\u001b[0m\u001b[0mCONTROL\u001b[0m\u001b[1;33m)\u001b[0m\u001b[1;33m.\u001b[0m\u001b[0mperform\u001b[0m\u001b[1;33m(\u001b[0m\u001b[1;33m)\u001b[0m\u001b[1;33m\u001b[0m\u001b[1;33m\u001b[0m\u001b[0m\n\u001b[0;32m      6\u001b[0m         \u001b[0mdriver\u001b[0m\u001b[1;33m.\u001b[0m\u001b[0mswitch_to\u001b[0m\u001b[1;33m.\u001b[0m\u001b[0mwindow\u001b[0m\u001b[1;33m(\u001b[0m\u001b[0mdriver\u001b[0m\u001b[1;33m.\u001b[0m\u001b[0mwindow_handles\u001b[0m\u001b[1;33m[\u001b[0m\u001b[1;33m-\u001b[0m\u001b[1;36m1\u001b[0m\u001b[1;33m]\u001b[0m\u001b[1;33m)\u001b[0m\u001b[1;33m\u001b[0m\u001b[1;33m\u001b[0m\u001b[0m\n\u001b[1;32m----> 7\u001b[1;33m         \u001b[0mdiccionario\u001b[0m \u001b[1;33m=\u001b[0m \u001b[0mget_metadata_page\u001b[0m\u001b[1;33m(\u001b[0m\u001b[1;33m)\u001b[0m\u001b[1;33m\u001b[0m\u001b[1;33m\u001b[0m\u001b[0m\n\u001b[0m\u001b[0;32m      8\u001b[0m         \u001b[0mdf\u001b[0m \u001b[1;33m=\u001b[0m \u001b[0mdf\u001b[0m\u001b[1;33m.\u001b[0m\u001b[0mappend\u001b[0m\u001b[1;33m(\u001b[0m\u001b[0mdiccionario\u001b[0m\u001b[1;33m,\u001b[0m \u001b[0mignore_index\u001b[0m\u001b[1;33m=\u001b[0m\u001b[1;32mTrue\u001b[0m\u001b[1;33m)\u001b[0m\u001b[1;33m\u001b[0m\u001b[1;33m\u001b[0m\u001b[0m\n\u001b[0;32m      9\u001b[0m         \u001b[0mdriver\u001b[0m\u001b[1;33m.\u001b[0m\u001b[0mclose\u001b[0m\u001b[1;33m(\u001b[0m\u001b[1;33m)\u001b[0m\u001b[1;33m\u001b[0m\u001b[1;33m\u001b[0m\u001b[0m\n",
      "\u001b[1;32m<ipython-input-9-daa27c929ff0>\u001b[0m in \u001b[0;36mget_metadata_page\u001b[1;34m()\u001b[0m\n\u001b[0;32m     17\u001b[0m \u001b[1;33m\u001b[0m\u001b[0m\n\u001b[0;32m     18\u001b[0m     \u001b[1;31m# Seccion More about this material\u001b[0m\u001b[1;33m\u001b[0m\u001b[1;33m\u001b[0m\u001b[1;33m\u001b[0m\u001b[0m\n\u001b[1;32m---> 19\u001b[1;33m     \u001b[0mmore_about_material\u001b[0m \u001b[1;33m=\u001b[0m \u001b[0mdriver\u001b[0m\u001b[1;33m.\u001b[0m\u001b[0mfind_elements_by_class_name\u001b[0m\u001b[1;33m(\u001b[0m\u001b[1;34m'row'\u001b[0m\u001b[1;33m)\u001b[0m\u001b[1;33m[\u001b[0m\u001b[1;36m7\u001b[0m\u001b[1;33m]\u001b[0m\u001b[1;33m\u001b[0m\u001b[1;33m\u001b[0m\u001b[0m\n\u001b[0m\u001b[0;32m     20\u001b[0m     \u001b[0mmore_about_material_txt\u001b[0m \u001b[1;33m=\u001b[0m \u001b[0mmore_about_material\u001b[0m\u001b[1;33m.\u001b[0m\u001b[0mtext\u001b[0m\u001b[1;33m\u001b[0m\u001b[1;33m\u001b[0m\u001b[0m\n\u001b[0;32m     21\u001b[0m     \u001b[0mmore_about_material_list\u001b[0m \u001b[1;33m=\u001b[0m \u001b[0mmore_about_material_txt\u001b[0m\u001b[1;33m.\u001b[0m\u001b[0msplit\u001b[0m\u001b[1;33m(\u001b[0m\u001b[1;34m'\\n'\u001b[0m\u001b[1;33m)\u001b[0m\u001b[1;33m\u001b[0m\u001b[1;33m\u001b[0m\u001b[0m\n",
      "\u001b[1;31mIndexError\u001b[0m: list index out of range"
     ]
    }
   ],
   "source": [
    "for i in range(20):\n",
    "    learning_objects_list = driver.find_elements_by_class_name(\"card.merlot-material-item\")\n",
    "    for learning_object in learning_objects_list:\n",
    "        actions = ActionChains(driver)\n",
    "        actions.key_down(Keys.CONTROL).click(learning_object).key_up(Keys.CONTROL).perform()\n",
    "        driver.switch_to.window(driver.window_handles[-1])\n",
    "        diccionario = get_metadata_page()   \n",
    "        df = df.append(diccionario, ignore_index=True)\n",
    "        driver.close()\n",
    "        driver.switch_to.window(driver.window_handles[0])\n",
    "    pagination = driver.find_element_by_class_name(\"col.merlot-pagination\").find_elements_by_tag_name(\"li\")\n",
    "    next_page = pagination[-2]\n",
    "    next_page.click()"
   ]
  },
  {
   "cell_type": "code",
   "execution_count": 11,
   "metadata": {},
   "outputs": [
    {
     "data": {
      "text/html": [
       "<div>\n",
       "<style scoped>\n",
       "    .dataframe tbody tr th:only-of-type {\n",
       "        vertical-align: middle;\n",
       "    }\n",
       "\n",
       "    .dataframe tbody tr th {\n",
       "        vertical-align: top;\n",
       "    }\n",
       "\n",
       "    .dataframe thead th {\n",
       "        text-align: right;\n",
       "    }\n",
       "</style>\n",
       "<table border=\"1\" class=\"dataframe\">\n",
       "  <thead>\n",
       "    <tr style=\"text-align: right;\">\n",
       "      <th></th>\n",
       "      <th>title</th>\n",
       "      <th>description</th>\n",
       "      <th>keywords</th>\n",
       "      <th>disciplines</th>\n",
       "      <th>material_type</th>\n",
       "      <th>date_added_merlot</th>\n",
       "      <th>date_modified_merlot</th>\n",
       "      <th>authors</th>\n",
       "      <th>submitter</th>\n",
       "      <th>primary_audience</th>\n",
       "      <th>technical_format</th>\n",
       "      <th>mobile_compatibility</th>\n",
       "      <th>language</th>\n",
       "      <th>cost_involved</th>\n",
       "      <th>source_code_available</th>\n",
       "      <th>accessibility_information_available</th>\n",
       "      <th>creative_commons</th>\n",
       "      <th>url</th>\n",
       "    </tr>\n",
       "  </thead>\n",
       "  <tbody>\n",
       "    <tr>\n",
       "      <th>0</th>\n",
       "      <td>Authentic Assessment Toolbox</td>\n",
       "      <td>The Authentic Assessment Toolbox site is a tut...</td>\n",
       "      <td></td>\n",
       "      <td>Academic Support Services  / Faculty Developme...</td>\n",
       "      <td>Tutorial</td>\n",
       "      <td>January 6, 2003</td>\n",
       "      <td>October 16, 2019</td>\n",
       "      <td>Jon Mueller, North Central College, IL   Email...</td>\n",
       "      <td>Cris Guenter</td>\n",
       "      <td>College General Ed, Graduate School, Professional</td>\n",
       "      <td>Website</td>\n",
       "      <td>Not specified at this time</td>\n",
       "      <td>English</td>\n",
       "      <td>No</td>\n",
       "      <td>No</td>\n",
       "      <td>No</td>\n",
       "      <td>This work is licensed under a Attribution-NonC...</td>\n",
       "      <td>https://www.merlot.org/merlot/viewMaterial.htm...</td>\n",
       "    </tr>\n",
       "    <tr>\n",
       "      <th>1</th>\n",
       "      <td>DNA from the Beginning</td>\n",
       "      <td>DNA from the Beginning is an animated tutorial...</td>\n",
       "      <td>genetics, genes, DNA, DNA models, History abou...</td>\n",
       "      <td>Science and Technology  / Agriculture and Envi...</td>\n",
       "      <td>Simulation</td>\n",
       "      <td>April 11, 2000</td>\n",
       "      <td>October 11, 2019</td>\n",
       "      <td>Cold Spring Harbor Laboratory,</td>\n",
       "      <td>Jeff Bell</td>\n",
       "      <td>College General Ed</td>\n",
       "      <td>Website</td>\n",
       "      <td>Not specified at this time</td>\n",
       "      <td>English</td>\n",
       "      <td>No</td>\n",
       "      <td>No</td>\n",
       "      <td>No</td>\n",
       "      <td>Unknown</td>\n",
       "      <td>https://www.merlot.org/merlot/viewMaterial.htm...</td>\n",
       "    </tr>\n",
       "  </tbody>\n",
       "</table>\n",
       "</div>"
      ],
      "text/plain": [
       "                          title  \\\n",
       "0  Authentic Assessment Toolbox   \n",
       "1        DNA from the Beginning   \n",
       "\n",
       "                                         description  \\\n",
       "0  The Authentic Assessment Toolbox site is a tut...   \n",
       "1  DNA from the Beginning is an animated tutorial...   \n",
       "\n",
       "                                            keywords  \\\n",
       "0                                                      \n",
       "1  genetics, genes, DNA, DNA models, History abou...   \n",
       "\n",
       "                                         disciplines material_type  \\\n",
       "0  Academic Support Services  / Faculty Developme...      Tutorial   \n",
       "1  Science and Technology  / Agriculture and Envi...    Simulation   \n",
       "\n",
       "  date_added_merlot date_modified_merlot  \\\n",
       "0   January 6, 2003     October 16, 2019   \n",
       "1    April 11, 2000     October 11, 2019   \n",
       "\n",
       "                                             authors     submitter  \\\n",
       "0  Jon Mueller, North Central College, IL   Email...  Cris Guenter   \n",
       "1                    Cold Spring Harbor Laboratory,      Jeff Bell   \n",
       "\n",
       "                                    primary_audience technical_format  \\\n",
       "0  College General Ed, Graduate School, Professional          Website   \n",
       "1                                 College General Ed          Website   \n",
       "\n",
       "         mobile_compatibility language cost_involved source_code_available  \\\n",
       "0  Not specified at this time  English            No                    No   \n",
       "1  Not specified at this time  English            No                    No   \n",
       "\n",
       "  accessibility_information_available  \\\n",
       "0                                  No   \n",
       "1                                  No   \n",
       "\n",
       "                                    creative_commons  \\\n",
       "0  This work is licensed under a Attribution-NonC...   \n",
       "1                                            Unknown   \n",
       "\n",
       "                                                 url  \n",
       "0  https://www.merlot.org/merlot/viewMaterial.htm...  \n",
       "1  https://www.merlot.org/merlot/viewMaterial.htm...  "
      ]
     },
     "execution_count": 11,
     "metadata": {},
     "output_type": "execute_result"
    }
   ],
   "source": [
    "df"
   ]
  }
 ],
 "metadata": {
  "kernelspec": {
   "display_name": "Python 3",
   "language": "python",
   "name": "python3"
  },
  "language_info": {
   "codemirror_mode": {
    "name": "ipython",
    "version": 3
   },
   "file_extension": ".py",
   "mimetype": "text/x-python",
   "name": "python",
   "nbconvert_exporter": "python",
   "pygments_lexer": "ipython3",
   "version": "3.7.3"
  }
 },
 "nbformat": 4,
 "nbformat_minor": 2
}

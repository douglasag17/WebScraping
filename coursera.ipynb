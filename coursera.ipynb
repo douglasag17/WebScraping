{
 "cells": [
  {
   "cell_type": "code",
   "execution_count": null,
   "metadata": {},
   "outputs": [],
   "source": [
    "import urllib.request, urllib.parse, urllib.error\n",
    "from bs4 import BeautifulSoup\n",
    "import re\n",
    "import pandas as pd"
   ]
  },
  {
   "cell_type": "markdown",
   "metadata": {},
   "source": [
    "### Obteniedo metadatos cursos"
   ]
  },
  {
   "cell_type": "code",
   "execution_count": null,
   "metadata": {},
   "outputs": [],
   "source": [
    "columns = ['title', 'description', 'difficulty_level', 'duration', 'keywords', 'url']\n",
    "df = pd.DataFrame(columns = columns)"
   ]
  },
  {
   "cell_type": "code",
   "execution_count": null,
   "metadata": {},
   "outputs": [],
   "source": [
    "def get_metadata_page(url): \n",
    "    html = urllib.request.urlopen(url).read()\n",
    "    soup = BeautifulSoup(html, 'html.parser')\n",
    "\n",
    "    h1_tags = soup('h1')\n",
    "    title = h1_tags[0].get_text()\n",
    "\n",
    "    description = soup.find('div', {'class': 'content-inner'}).get_text()\n",
    "\n",
    "    h4_tags = soup('h4')\n",
    "    difficulty_level = ''\n",
    "    duration = ''\n",
    "    language = h4_tags[-1].get_text()\n",
    "    for h4 in h4_tags:    \n",
    "        if (re.search(\"Level\", str(h4))):\n",
    "            difficulty_level = h4.get_text()\n",
    "        if (re.search(\"Approx\", str(h4))):\n",
    "            duration = h4.get_text()\n",
    "\n",
    "    try:\n",
    "        entradas = soup.find('div', {'class': 'Box_120drhm-o_O-displayflex_poyjc-o_O-wrap_rmgg7w'})\n",
    "        keywords = ''\n",
    "        for span in entradas:\n",
    "            keywords += span.get_text() + ', '\n",
    "    except:\n",
    "        keywords = ''\n",
    "\n",
    "    diccionario = {'title': title, 'description': description, 'difficulty_level': difficulty_level,\n",
    "                   'duration': duration, 'keywords': keywords, 'url': url}\n",
    "    return diccionario"
   ]
  },
  {
   "cell_type": "markdown",
   "metadata": {},
   "source": [
    "### Iterar sobre todos los cursos"
   ]
  },
  {
   "cell_type": "code",
   "execution_count": null,
   "metadata": {},
   "outputs": [],
   "source": [
    "for i in range(1, 101):\n",
    "    try:\n",
    "        url = 'http://www.coursera.org/courses?query=&indices%5Bprod_all_products_term_optimization%5D%5Bpage%5D=' + str(i) + '&indices%5Bprod_all_products_term_optimization%5D%5Bconfigure%5D%5BclickAnalytics%5D=true&indices%5Bprod_all_products_term_optimization%5D%5Bconfigure%5D%5BhitsPerPage%5D=10&configure%5BclickAnalytics%5D=true'\n",
    "        html = urllib.request.urlopen(url).read()\n",
    "        soup = BeautifulSoup(html, 'html.parser')\n",
    "        lis = soup.findAll('li', {'class': 'ais-InfiniteHits-item'})\n",
    "        j = 1\n",
    "        for li in lis:\n",
    "            links = li.findAll('a', attrs={'href': re.compile(\"/learn/\")})\n",
    "            if(len(links) > 0):\n",
    "                url = 'https://www.coursera.org' + links[0].get('href')\n",
    "                print(i, 'li'+str(j), url)\n",
    "                j += 1\n",
    "                diccionario = get_metadata_page(url)\n",
    "                df = df.append(diccionario, ignore_index=True)\n",
    "    except:\n",
    "        pass"
   ]
  },
  {
   "cell_type": "code",
   "execution_count": null,
   "metadata": {},
   "outputs": [],
   "source": [
    "df"
   ]
  },
  {
   "cell_type": "code",
   "execution_count": null,
   "metadata": {},
   "outputs": [],
   "source": [
    "df.to_json(\"metadataCoursera2.json\", orient='records')\n",
    "df.to_excel(\"metadataCoursera2.xlsx\", \"data\")"
   ]
  }
 ],
 "metadata": {
  "kernelspec": {
   "display_name": "Python 3",
   "language": "python",
   "name": "python3"
  },
  "language_info": {
   "codemirror_mode": {
    "name": "ipython",
    "version": 3
   },
   "file_extension": ".py",
   "mimetype": "text/x-python",
   "name": "python",
   "nbconvert_exporter": "python",
   "pygments_lexer": "ipython3",
   "version": "3.7.3"
  }
 },
 "nbformat": 4,
 "nbformat_minor": 2
}

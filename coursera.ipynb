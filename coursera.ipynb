{
 "cells": [
  {
   "cell_type": "code",
   "execution_count": 1,
   "metadata": {},
   "outputs": [],
   "source": [
    "import urllib.request, urllib.parse, urllib.error\n",
    "from bs4 import BeautifulSoup\n",
    "import re\n",
    "import pandas as pd"
   ]
  },
  {
   "cell_type": "markdown",
   "metadata": {},
   "source": [
    "### Obteniedo metadatos cursos"
   ]
  },
  {
   "cell_type": "code",
   "execution_count": 2,
   "metadata": {},
   "outputs": [],
   "source": [
    "columns = ['title', 'description', 'difficulty_level', 'duration', 'keywords', 'url']\n",
    "df = pd.DataFrame(columns = columns)"
   ]
  },
  {
   "cell_type": "code",
   "execution_count": 3,
   "metadata": {},
   "outputs": [],
   "source": [
    "def get_metadata_page(url): \n",
    "    html = urllib.request.urlopen(url).read()\n",
    "    soup = BeautifulSoup(html, 'html.parser')\n",
    "\n",
    "    h1_tags = soup('h1')\n",
    "    title = h1_tags[0].get_text()\n",
    "\n",
    "    description = soup.find('div', {'class': 'content-inner'}).get_text()\n",
    "\n",
    "    h4_tags = soup('h4')\n",
    "    difficulty_level = ''\n",
    "    duration = ''\n",
    "    language = h4_tags[-1].get_text()\n",
    "    for h4 in h4_tags:    \n",
    "        if (re.search(\"Level\", str(h4))):\n",
    "            difficulty_level = h4.get_text()\n",
    "        if (re.search(\"Approx\", str(h4))):\n",
    "            duration = h4.get_text()\n",
    "\n",
    "    entradas = soup.find('div', {'class': 'Box_120drhm-o_O-displayflex_poyjc-o_O-wrap_rmgg7w'})\n",
    "    keywords = ''\n",
    "    for span in entradas:\n",
    "        keywords += span.get_text() + ', '\n",
    "\n",
    "    diccionario = {'title': title, 'description': description, 'difficulty_level': difficulty_level,\n",
    "                   'duration': duration, 'keywords': keywords, 'url': url}\n",
    "    return diccionario"
   ]
  },
  {
   "cell_type": "markdown",
   "metadata": {},
   "source": [
    "### Iterar sobre todos los cursos"
   ]
  },
  {
   "cell_type": "code",
   "execution_count": 7,
   "metadata": {},
   "outputs": [],
   "source": [
    "# Solo cursos en ingles\n",
    "url = 'https://www.coursera.org/learn/neural-networks-deep-learning'\n",
    "#url = 'https://www.coursera.org/learn/machine-learning'\n",
    "\n",
    "diccionario = get_metadata_page(url)\n",
    "df = df.append(diccionario, ignore_index=True)"
   ]
  },
  {
   "cell_type": "code",
   "execution_count": 8,
   "metadata": {},
   "outputs": [
    {
     "data": {
      "text/html": [
       "<div>\n",
       "<style scoped>\n",
       "    .dataframe tbody tr th:only-of-type {\n",
       "        vertical-align: middle;\n",
       "    }\n",
       "\n",
       "    .dataframe tbody tr th {\n",
       "        vertical-align: top;\n",
       "    }\n",
       "\n",
       "    .dataframe thead th {\n",
       "        text-align: right;\n",
       "    }\n",
       "</style>\n",
       "<table border=\"1\" class=\"dataframe\">\n",
       "  <thead>\n",
       "    <tr style=\"text-align: right;\">\n",
       "      <th></th>\n",
       "      <th>title</th>\n",
       "      <th>description</th>\n",
       "      <th>difficulty_level</th>\n",
       "      <th>duration</th>\n",
       "      <th>keywords</th>\n",
       "      <th>url</th>\n",
       "    </tr>\n",
       "  </thead>\n",
       "  <tbody>\n",
       "    <tr>\n",
       "      <th>0</th>\n",
       "      <td>Machine Learning</td>\n",
       "      <td>Machine learning is the science of getting com...</td>\n",
       "      <td></td>\n",
       "      <td>Approx. 56 hours to complete</td>\n",
       "      <td>Logistic Regression, Artificial Neural Network...</td>\n",
       "      <td>https://www.coursera.org/learn/machine-learning</td>\n",
       "    </tr>\n",
       "    <tr>\n",
       "      <th>1</th>\n",
       "      <td>Neural Networks and Deep Learning</td>\n",
       "      <td>If you want to break into cutting-edge AI, thi...</td>\n",
       "      <td>Intermediate Level</td>\n",
       "      <td>Approx. 18 hours to complete</td>\n",
       "      <td>Artificial Neural Network, Backpropagation, Py...</td>\n",
       "      <td>https://www.coursera.org/learn/neural-networks...</td>\n",
       "    </tr>\n",
       "  </tbody>\n",
       "</table>\n",
       "</div>"
      ],
      "text/plain": [
       "                               title  \\\n",
       "0                   Machine Learning   \n",
       "1  Neural Networks and Deep Learning   \n",
       "\n",
       "                                         description    difficulty_level  \\\n",
       "0  Machine learning is the science of getting com...                       \n",
       "1  If you want to break into cutting-edge AI, thi...  Intermediate Level   \n",
       "\n",
       "                       duration  \\\n",
       "0  Approx. 56 hours to complete   \n",
       "1  Approx. 18 hours to complete   \n",
       "\n",
       "                                            keywords  \\\n",
       "0  Logistic Regression, Artificial Neural Network...   \n",
       "1  Artificial Neural Network, Backpropagation, Py...   \n",
       "\n",
       "                                                 url  \n",
       "0    https://www.coursera.org/learn/machine-learning  \n",
       "1  https://www.coursera.org/learn/neural-networks...  "
      ]
     },
     "execution_count": 8,
     "metadata": {},
     "output_type": "execute_result"
    }
   ],
   "source": [
    "df"
   ]
  },
  {
   "cell_type": "code",
   "execution_count": 9,
   "metadata": {},
   "outputs": [],
   "source": [
    "df.to_json(\"metadataCoursera.json\", orient='records')"
   ]
  }
 ],
 "metadata": {
  "kernelspec": {
   "display_name": "Python 3",
   "language": "python",
   "name": "python3"
  },
  "language_info": {
   "codemirror_mode": {
    "name": "ipython",
    "version": 3
   },
   "file_extension": ".py",
   "mimetype": "text/x-python",
   "name": "python",
   "nbconvert_exporter": "python",
   "pygments_lexer": "ipython3",
   "version": "3.7.3"
  }
 },
 "nbformat": 4,
 "nbformat_minor": 2
}

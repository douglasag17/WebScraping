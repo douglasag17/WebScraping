{
 "cells": [
  {
   "cell_type": "code",
   "execution_count": 1,
   "metadata": {},
   "outputs": [],
   "source": [
    "#url = \"https://www.merlot.org/merlot/index.htm\"\n",
    "#driver.get(url)"
   ]
  },
  {
   "cell_type": "code",
   "execution_count": 2,
   "metadata": {},
   "outputs": [],
   "source": [
    "#search = driver.find_element_by_xpath('/html/body/div[2]/section[1]/div[2]/div[1]/div/form/div/span/button')\n",
    "#search.click()"
   ]
  },
  {
   "cell_type": "code",
   "execution_count": 3,
   "metadata": {},
   "outputs": [],
   "source": [
    "from selenium import webdriver \n",
    "from selenium.webdriver.support.ui import Select\n",
    "import time\n",
    "import sys\n",
    "from selenium.webdriver.common.keys import Keys\n",
    "from selenium.webdriver import ActionChains\n",
    "import pandas as pd"
   ]
  },
  {
   "cell_type": "code",
   "execution_count": 4,
   "metadata": {},
   "outputs": [
    {
     "name": "stdout",
     "output_type": "stream",
     "text": [
      "Iniciando Scraper\n"
     ]
    }
   ],
   "source": [
    "exeDriver = \"chromedriver.exe\"\n",
    "driver = webdriver.Chrome(exeDriver)\n",
    "print(\"Iniciando Scraper\")"
   ]
  },
  {
   "cell_type": "markdown",
   "metadata": {},
   "source": [
    "### Obteniendo metadatos articulos"
   ]
  },
  {
   "cell_type": "code",
   "execution_count": 5,
   "metadata": {},
   "outputs": [],
   "source": [
    "url_ = \"https://www.merlot.org/merlot/viewMaterial.htm?id=1269814\"\n",
    "driver.get(url_)"
   ]
  },
  {
   "cell_type": "code",
   "execution_count": 6,
   "metadata": {},
   "outputs": [],
   "source": [
    "columns = ['title', 'description', 'keywords', 'disciplines', 'material_type', 'date_added_merlot', 'date_modified_merlot',\n",
    "           'authors', 'submitter', 'primary_audience', 'technical_format', 'mobile_compatibility', 'language',\n",
    "           'cost_involved', 'source_code_available', 'accessibility_information_available', 'creative_commons', 'url']\n",
    "df = pd.DataFrame(columns = columns)"
   ]
  },
  {
   "cell_type": "code",
   "execution_count": 7,
   "metadata": {},
   "outputs": [],
   "source": [
    "def get_metadata_page():\n",
    "    # Seccion Material Detail\n",
    "    material_detail = driver.find_elements_by_class_name('row')[2]\n",
    "    material_detail_txt = material_detail.text\n",
    "    material_detail_list = material_detail_txt.split('\\n')\n",
    "\n",
    "    url = driver.current_url\n",
    "    title = material_detail_list[0]\n",
    "    description = material_detail_list[1]\n",
    "    keywords = ''\n",
    "    disciplines = ''\n",
    "    for i in range(len(material_detail_list)):\n",
    "        if (material_detail_list[i] == 'Keywords:'):\n",
    "            keywords = material_detail_list[i+1]\n",
    "        if (material_detail_list[i] == 'Disciplines:'):\n",
    "            disciplines = material_detail_list[i+1]\n",
    "\n",
    "    # Seccion More about this material\n",
    "    more_about_material = driver.find_elements_by_class_name('row')[7]\n",
    "    more_about_material_txt = more_about_material.text\n",
    "    more_about_material_list = more_about_material_txt.split('\\n')\n",
    "    more_about_material_list\n",
    "\n",
    "    material_type = ''\n",
    "    date_added_merlot = ''\n",
    "    date_modified_merlot = '' \n",
    "    authors = ''\n",
    "    submitter = ''\n",
    "    primary_audience = ''\n",
    "    technical_format = ''\n",
    "    mobile_compatibility = ''\n",
    "    language = ''\n",
    "    cost_involved = ''\n",
    "    source_code_available = ''\n",
    "    accessibility_information_available = ''\n",
    "    creative_commons = ''\n",
    "    for i in range(len(more_about_material_list)):\n",
    "        if (more_about_material_list[i] == 'Material Type:'):\n",
    "            material_type = more_about_material_list[i+1]\n",
    "        if (more_about_material_list[i] == 'Date Added to MERLOT:'):\n",
    "            date_added_merlot = more_about_material_list[i+1]\n",
    "        if (more_about_material_list[i] == 'Date Modified in MERLOT:'):\n",
    "            date_modified_merlot = more_about_material_list[i+1]\n",
    "        if (more_about_material_list[i] == 'Author:'):\n",
    "            for j in range(i+1, len(more_about_material_list)):\n",
    "                if (more_about_material_list[j] == 'Submitter:'):\n",
    "                    break\n",
    "                else:\n",
    "                    authors += more_about_material_list[j] + ', '\n",
    "        if (more_about_material_list[i] == 'Submitter:'):\n",
    "            submitter = more_about_material_list[i+1]\n",
    "        if (more_about_material_list[i] == 'Primary Audience:'):\n",
    "            primary_audience = more_about_material_list[i+1]\n",
    "        if (more_about_material_list[i] == 'Technical Format:'):\n",
    "            technical_format = more_about_material_list[i+1]\n",
    "        if (more_about_material_list[i] == 'Mobile Compatibility:'):\n",
    "            mobile_compatibility = more_about_material_list[i+1]\n",
    "        if (more_about_material_list[i] == 'Language:'):\n",
    "            language = more_about_material_list[i+1]\n",
    "        if (more_about_material_list[i] == 'Cost Involved:'):\n",
    "            cost_involved = more_about_material_list[i+1]\n",
    "        if (more_about_material_list[i] == 'Source Code Available:'):\n",
    "            source_code_available = more_about_material_list[i+1]\n",
    "        if (more_about_material_list[i] == 'Accessibility Information Available:'):\n",
    "            accessibility_information_available = more_about_material_list[i+1]\n",
    "        if (more_about_material_list[i] == 'Creative Commons:'):\n",
    "            creative_commons = more_about_material_list[i+1]\n",
    "            \n",
    "    diccionario = {'title': title, 'description': description, 'keywords': keywords, 'disciplines': disciplines, \n",
    "                   'material_type': material_type, 'date_added_merlot': date_added_merlot, \n",
    "                   'date_modified_merlot': date_modified_merlot, 'authors': authors, 'submitter': submitter, \n",
    "                   'primary_audience': primary_audience, 'technical_format': technical_format, \n",
    "                   'mobile_compatibility': mobile_compatibility, 'language': language, \n",
    "                   'cost_involved': cost_involved, 'source_code_available': source_code_available, \n",
    "                   'accessibility_information_available': accessibility_information_available, \n",
    "                   'creative_commons': creative_commons, 'url': url}\n",
    "    return diccionario"
   ]
  },
  {
   "cell_type": "code",
   "execution_count": 8,
   "metadata": {},
   "outputs": [
    {
     "data": {
      "text/html": [
       "<div>\n",
       "<style scoped>\n",
       "    .dataframe tbody tr th:only-of-type {\n",
       "        vertical-align: middle;\n",
       "    }\n",
       "\n",
       "    .dataframe tbody tr th {\n",
       "        vertical-align: top;\n",
       "    }\n",
       "\n",
       "    .dataframe thead th {\n",
       "        text-align: right;\n",
       "    }\n",
       "</style>\n",
       "<table border=\"1\" class=\"dataframe\">\n",
       "  <thead>\n",
       "    <tr style=\"text-align: right;\">\n",
       "      <th></th>\n",
       "      <th>title</th>\n",
       "      <th>description</th>\n",
       "      <th>keywords</th>\n",
       "      <th>disciplines</th>\n",
       "      <th>material_type</th>\n",
       "      <th>date_added_merlot</th>\n",
       "      <th>date_modified_merlot</th>\n",
       "      <th>authors</th>\n",
       "      <th>submitter</th>\n",
       "      <th>primary_audience</th>\n",
       "      <th>technical_format</th>\n",
       "      <th>mobile_compatibility</th>\n",
       "      <th>language</th>\n",
       "      <th>cost_involved</th>\n",
       "      <th>source_code_available</th>\n",
       "      <th>accessibility_information_available</th>\n",
       "      <th>creative_commons</th>\n",
       "      <th>url</th>\n",
       "    </tr>\n",
       "  </thead>\n",
       "  <tbody>\n",
       "    <tr>\n",
       "      <th>0</th>\n",
       "      <td>On-Screen versus On-Paper Reading: Students' S...</td>\n",
       "      <td>The objectives of this study were to (a) deter...</td>\n",
       "      <td>ICT literacy, online, reading</td>\n",
       "      <td>Academic Support Services  / Hybrid and Online...</td>\n",
       "      <td>Open (Access) Journal-Article</td>\n",
       "      <td>January 26, 2017</td>\n",
       "      <td>June 12, 2019</td>\n",
       "      <td>Arden Hamer, Jane McGrath,</td>\n",
       "      <td>Lesley Farmer</td>\n",
       "      <td>College General Ed, Professional</td>\n",
       "      <td>PDF</td>\n",
       "      <td>Not specified at this time</td>\n",
       "      <td>English</td>\n",
       "      <td>No</td>\n",
       "      <td>Unknown</td>\n",
       "      <td>Unknown</td>\n",
       "      <td>Unknown</td>\n",
       "      <td>https://www.merlot.org/merlot/viewMaterial.htm...</td>\n",
       "    </tr>\n",
       "  </tbody>\n",
       "</table>\n",
       "</div>"
      ],
      "text/plain": [
       "                                               title  \\\n",
       "0  On-Screen versus On-Paper Reading: Students' S...   \n",
       "\n",
       "                                         description  \\\n",
       "0  The objectives of this study were to (a) deter...   \n",
       "\n",
       "                        keywords  \\\n",
       "0  ICT literacy, online, reading   \n",
       "\n",
       "                                         disciplines  \\\n",
       "0  Academic Support Services  / Hybrid and Online...   \n",
       "\n",
       "                   material_type date_added_merlot date_modified_merlot  \\\n",
       "0  Open (Access) Journal-Article  January 26, 2017        June 12, 2019   \n",
       "\n",
       "                       authors      submitter  \\\n",
       "0  Arden Hamer, Jane McGrath,   Lesley Farmer   \n",
       "\n",
       "                   primary_audience technical_format  \\\n",
       "0  College General Ed, Professional              PDF   \n",
       "\n",
       "         mobile_compatibility language cost_involved source_code_available  \\\n",
       "0  Not specified at this time  English            No               Unknown   \n",
       "\n",
       "  accessibility_information_available creative_commons  \\\n",
       "0                             Unknown          Unknown   \n",
       "\n",
       "                                                 url  \n",
       "0  https://www.merlot.org/merlot/viewMaterial.htm...  "
      ]
     },
     "execution_count": 8,
     "metadata": {},
     "output_type": "execute_result"
    }
   ],
   "source": [
    "diccionario = get_metadata_page()   \n",
    "df = df.append(diccionario, ignore_index=True)\n",
    "df"
   ]
  },
  {
   "cell_type": "code",
   "execution_count": null,
   "metadata": {},
   "outputs": [],
   "source": []
  }
 ],
 "metadata": {
  "kernelspec": {
   "display_name": "Python 3",
   "language": "python",
   "name": "python3"
  },
  "language_info": {
   "codemirror_mode": {
    "name": "ipython",
    "version": 3
   },
   "file_extension": ".py",
   "mimetype": "text/x-python",
   "name": "python",
   "nbconvert_exporter": "python",
   "pygments_lexer": "ipython3",
   "version": "3.7.3"
  }
 },
 "nbformat": 4,
 "nbformat_minor": 2
}
